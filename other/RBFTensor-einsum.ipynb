{
 "cells": [
  {
   "cell_type": "markdown",
   "metadata": {},
   "source": [
    "<center> <font color = #82318E size = 5 face = \"微软雅黑\" > RBF Tensor einsum Version</font> </center>"
   ]
  },
  {
   "cell_type": "markdown",
   "metadata": {},
   "source": [
    "<center> <font color = #82318E size = 4 face = \"微软雅黑\" > 1. Prepare Data </font> </center>"
   ]
  },
  {
   "cell_type": "code",
   "execution_count": 2,
   "metadata": {},
   "outputs": [
    {
     "name": "stdout",
     "output_type": "stream",
     "text": [
      " The shape of H  is (9, 3);\n",
      " The shape of Tx is (9, 3);\n",
      " The shape of Ty is (9, 3);\n",
      " The shape of Tz is (9, 3).\n",
      "(3, 9, 3)\n"
     ]
    }
   ],
   "source": [
    "import numpy as np\n",
    "np.random.seed(522)\n",
    "\n",
    "im = 9\n",
    "\n",
    "temp = np.random.normal(loc = 0, scale = 1, size = (im, 13))\n",
    "\n",
    "H = temp[::, 0:3:1]\n",
    "Tx = temp[::, 4:7:1]\n",
    "Ty = temp[::, 7:10:1]\n",
    "Tz = temp[::, -3::1]\n",
    "\n",
    "print(' The shape of H  is {};\\n The shape of Tx is {};\\n The shape of Ty is {};\\n The shape of Tz is {}.'.format(\n",
    "      H.shape,Tx.shape,Ty.shape,Tz.shape))\n",
    "\n",
    "T = np.concatenate((Tx, Ty, Tz), axis = 0).reshape(-1, im, 3)\n",
    "print(T.shape)"
   ]
  },
  {
   "cell_type": "markdown",
   "metadata": {},
   "source": [
    "<center> <font color = #82318E size = 4 face = \"微软雅黑\" > 2. Original Version </font> </center>"
   ]
  },
  {
   "cell_type": "markdown",
   "metadata": {},
   "source": [
    "<table border = '0' witdth = '2000' >\n",
    "<tr> \n",
    "<td width = '2000' ><img src = ./TensorOrig.png /></td> \n",
    "</tr>\n",
    "</table>"
   ]
  },
  {
   "cell_type": "code",
   "execution_count": 3,
   "metadata": {
    "scrolled": true
   },
   "outputs": [
    {
     "name": "stdout",
     "output_type": "stream",
     "text": [
      "(9,) (9,) (9,)\n",
      "[[-0.4702549  -1.09373498  0.71895093]\n",
      " [-4.34420159  1.93786275  1.27702953]\n",
      " [-0.79210234 -0.6952026  -0.78218299]\n",
      " [ 1.90391861 -1.60849709 -2.27491605]\n",
      " [ 4.405149    0.28022822 -1.9293554 ]\n",
      " [ 1.17188343 -1.65311901 -0.04564163]\n",
      " [-1.65806898 -0.72016552 -0.64827817]\n",
      " [ 2.80186909  0.9698682  -0.11173106]\n",
      " [-3.2307313  -2.67230977 -1.38377616]]\n"
     ]
    }
   ],
   "source": [
    "p = np.multiply(H[:,0], Tx[:,0]) + np.multiply(H[:,1], Ty[:,0]) + np.multiply(H[:,2], Tz[:,0])\n",
    "q = np.multiply(H[:,0], Tx[:,1]) + np.multiply(H[:,1], Ty[:,1]) + np.multiply(H[:,2], Tz[:,1])\n",
    "s = np.multiply(H[:,0], Tx[:,2]) + np.multiply(H[:,1], Ty[:,2]) + np.multiply(H[:,2], Tz[:,2])\n",
    "print(p.shape, q.shape, s.shape)\n",
    "\n",
    "AIM = np.concatenate((p.reshape(-1, 1), q.reshape(-1, 1), s.reshape(-1, 1)), axis = 1)\n",
    "print(AIM)"
   ]
  },
  {
   "cell_type": "markdown",
   "metadata": {},
   "source": [
    "<center> <font color = #82318E size = 4 face = \"微软雅黑\" > 2. Tensor einsum Version </font> </center>"
   ]
  },
  {
   "cell_type": "code",
   "execution_count": 7,
   "metadata": {},
   "outputs": [
    {
     "name": "stdout",
     "output_type": "stream",
     "text": [
      "R=\n",
      " [[-0.4702549  -1.09373498  0.71895093]\n",
      " [-4.34420159  1.93786275  1.27702953]\n",
      " [-0.79210234 -0.6952026  -0.78218299]\n",
      " [ 1.90391861 -1.60849709 -2.27491605]\n",
      " [ 4.405149    0.28022822 -1.9293554 ]\n",
      " [ 1.17188343 -1.65311901 -0.04564163]\n",
      " [-1.65806898 -0.72016552 -0.64827817]\n",
      " [ 2.80186909  0.9698682  -0.11173106]\n",
      " [-3.2307313  -2.67230977 -1.38377616]]\n"
     ]
    }
   ],
   "source": [
    "R = np.einsum('ik,kij->ij', H, T)\n",
    "print(\"R=\\n\",R)"
   ]
  },
  {
   "cell_type": "markdown",
   "metadata": {},
   "source": [
    "<H1>注释：</H1>\n",
    "<pre><code>\n",
    "原始公式：\n",
    "p = H(:,1)*Tx(:,1) + H(:,2)*Ty(:,1) + H(:,3)*Tz(:,1) \n",
    "q = H(:,1)*Tx(:,2) + H(:,2)*Ty(:,2) + H(:,3)*Tz(:,2)\n",
    "s = H(:,1)*Tx(:,3) + H(:,2)*Ty(:,3) + H(:,3)*Tz(:,3) \n",
    "\n",
    "猜想如果用爱因斯坦求和约定来表示可能更简单：\n",
    "\n",
    "先设R=[p q s], H=[u v w], T = np.stack((Tx, Ty, Tz), axis = 0), 上面的表达式可以改写为：\n",
    "R[:,1] = H(:,1)*T(1,:,1) + H(:,2)*T(2,:,1) + H(:,3)*T(3,:,1) \n",
    "R[:,2] = H(:,1)*T(1,:,2) + H(:,2)*T(2,:,2) + H(:,3)*T(3,:,2)\n",
    "R[:,3] = H(:,1)*T(1,:,3) + H(:,2)*T(2,:,3) + H(:,3)*T(3,:,3) \n",
    "\n",
    "写出循环形式：\n",
    "for i in range(9):\n",
    "    for j in range(3):\n",
    "        for k in range(3):\n",
    "        \tR[i, j] += H[i, k] .* T[k, i, j]\n",
    "\n",
    "\n",
    "变换一下，去掉k循环：\n",
    "for i in range(9):\n",
    "    for j in range(3):\n",
    "        \tR[i, j] = sum_k H[i, k] .* T[k, i, j] \n",
    "\n",
    "写出爱因斯坦求和约定形式：\n",
    "einsum('ik,kij->ij', H, T)\t\n",
    "一行搞定！\n",
    "</pre></code>\n",
    "\n",
    "<H1>备注：TensorFlow如何实现张量收缩</H1>\n",
    "<H5>https://www.w3cschool.cn/tensorflow_python/tensorflow_python-qszk2e44.html</H5>\n",
    "<pre><code>一般来说, 方程是从较熟悉的元素方程得到：\n",
    "删除变量名称、括号和逗号；\n",
    "    1）用 \"*\" 替换 \"，\"；\n",
    "    2）删除总和标志；\n",
    "    3)将输出移到右侧，并将 \"=\" 替换为 \"->>\"。\n",
    "    4)许多常见操作可以用这种方式来表示。\n",
    "    \n",
    "    例如:\n",
    "    # Matrix multiplication\n",
    "    >>> einsum('ij,jk->ik', m0, m1)  # output[i,k] = sum_j m0[i,j] * m1[j, k]\n",
    "\n",
    "    # Dot product\n",
    "    >>> einsum('i,i->', u, v)  # output = sum_i u[i]*v[i]\n",
    "\n",
    "    # Outer product\n",
    "    >>> einsum('i,j->ij', u, v)  # output[i,j] = u[i]*v[j]\n",
    "\n",
    "    # Transpose\n",
    "    >>> einsum('ij->ji', m)  # output[j,i] = m[i,j]\n",
    "\n",
    "    # Batch matrix multiplication\n",
    "    >>> einsum('aij,ajk->aik', s, t)  # out[a,i,k] = sum_j s[a,i,j] * t[a, j, k]  \n",
    "</pre></code>"
   ]
  },
  {
   "cell_type": "code",
   "execution_count": null,
   "metadata": {
    "collapsed": true
   },
   "outputs": [],
   "source": []
  }
 ],
 "metadata": {
  "kernelspec": {
   "display_name": "Python 3",
   "language": "python",
   "name": "python3"
  },
  "language_info": {
   "codemirror_mode": {
    "name": "ipython",
    "version": 3
   },
   "file_extension": ".py",
   "mimetype": "text/x-python",
   "name": "python",
   "nbconvert_exporter": "python",
   "pygments_lexer": "ipython3",
   "version": "3.6.3"
  }
 },
 "nbformat": 4,
 "nbformat_minor": 2
}
