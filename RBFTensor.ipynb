{
 "cells": [
  {
   "cell_type": "markdown",
   "metadata": {},
   "source": [
    "<center> <font color = #82318E size = 5 face = \"微软雅黑\" > RBF Tensor Version の Damon </font> </center>"
   ]
  },
  {
   "cell_type": "code",
   "execution_count": 1,
   "metadata": {},
   "outputs": [],
   "source": [
    "import numpy as np"
   ]
  },
  {
   "cell_type": "markdown",
   "metadata": {},
   "source": [
    "<center> <font color = #82318E size = 4 face = \"微软雅黑\" > 1. Prepare Data </font> </center>"
   ]
  },
  {
   "cell_type": "code",
   "execution_count": 2,
   "metadata": {},
   "outputs": [
    {
     "name": "stdout",
     "output_type": "stream",
     "text": [
      " The shape of H  is (9, 3);\n",
      " The shape of Tx is (9, 3);\n",
      " The shape of Ty is (9, 3);\n",
      " The shape of Tz is (9, 3).\n"
     ]
    }
   ],
   "source": [
    "np.random.seed(522)\n",
    "\n",
    "im = 9\n",
    "\n",
    "temp = np.random.normal(loc = 0, scale = 1, size = (im, 13))\n",
    "\n",
    "H = temp[::, 0:3:1]\n",
    "Tx = temp[::, 4:7:1]\n",
    "Ty = temp[::, 7:10:1]\n",
    "Tz = temp[::, -3::1]\n",
    "\n",
    "print(' The shape of H  is {};\\n The shape of Tx is {};\\n The shape of Ty is {};\\n The shape of Tz is {}.'.format(\n",
    "      H.shape,Tx.shape,Ty.shape,Tz.shape))"
   ]
  },
  {
   "cell_type": "markdown",
   "metadata": {},
   "source": [
    "<center> <font color = #82318E size = 4 face = \"微软雅黑\" > 2. Original Version </font> </center>"
   ]
  },
  {
   "cell_type": "markdown",
   "metadata": {},
   "source": [
    "<table border = '0' witdth = '2000' >\n",
    "<tr> \n",
    "<td width = '2000' ><img src = ./TensorOrig.png /></td> \n",
    "</tr>\n",
    "</table>"
   ]
  },
  {
   "cell_type": "code",
   "execution_count": 3,
   "metadata": {},
   "outputs": [
    {
     "name": "stdout",
     "output_type": "stream",
     "text": [
      "(9,) (9,) (9,)\n",
      "\n",
      "(9, 3)\n",
      "[[-0.4702549  -1.09373498  0.71895093]\n",
      " [-4.34420159  1.93786275  1.27702953]\n",
      " [-0.79210234 -0.6952026  -0.78218299]\n",
      " [ 1.90391861 -1.60849709 -2.27491605]\n",
      " [ 4.405149    0.28022822 -1.9293554 ]\n",
      " [ 1.17188343 -1.65311901 -0.04564163]\n",
      " [-1.65806898 -0.72016552 -0.64827817]\n",
      " [ 2.80186909  0.9698682  -0.11173106]\n",
      " [-3.2307313  -2.67230977 -1.38377616]]\n"
     ]
    }
   ],
   "source": [
    "p = np.multiply(H[:,0], Tx[:,0]) + np.multiply(H[:,1], Ty[:,0]) + np.multiply(H[:,2], Tz[:,0])\n",
    "q = np.multiply(H[:,0], Tx[:,1]) + np.multiply(H[:,1], Ty[:,1]) + np.multiply(H[:,2], Tz[:,1])\n",
    "s = np.multiply(H[:,0], Tx[:,2]) + np.multiply(H[:,1], Ty[:,2]) + np.multiply(H[:,2], Tz[:,2])\n",
    "print(p.shape, q.shape, s.shape)\n",
    "print()\n",
    "\n",
    "AIM = np.concatenate((p.reshape(-1, 1), q.reshape(-1, 1), s.reshape(-1, 1)), axis = 1)\n",
    "print(AIM.shape)\n",
    "print(AIM)"
   ]
  },
  {
   "cell_type": "markdown",
   "metadata": {},
   "source": [
    "<center> <font color = #82318E size = 4 face = \"微软雅黑\" > 3. Tensor Slice(Matrix) Version </font> </center>"
   ]
  },
  {
   "cell_type": "markdown",
   "metadata": {},
   "source": [
    "<table border = '0' witdth = '2000' >\n",
    "<tr> \n",
    "<td width = '2000' ><img src = ./TensorSlice.jpeg /></td> \n",
    "</tr>\n",
    "</table>"
   ]
  },
  {
   "cell_type": "code",
   "execution_count": 4,
   "metadata": {},
   "outputs": [
    {
     "name": "stdout",
     "output_type": "stream",
     "text": [
      "(3, 9, 3)\n"
     ]
    }
   ],
   "source": [
    "T = np.concatenate((Tx, Ty, Tz), axis = 0).reshape(-1, im, 3)\n",
    "print(T.shape)"
   ]
  },
  {
   "cell_type": "code",
   "execution_count": 5,
   "metadata": {},
   "outputs": [
    {
     "name": "stdout",
     "output_type": "stream",
     "text": [
      "[[-0.4702549  -1.09373498  0.71895093]\n",
      " [-4.34420159  1.93786275  1.27702953]\n",
      " [-0.79210234 -0.6952026  -0.78218299]\n",
      " [ 1.90391861 -1.60849709 -2.27491605]\n",
      " [ 4.405149    0.28022822 -1.9293554 ]\n",
      " [ 1.17188343 -1.65311901 -0.04564163]\n",
      " [-1.65806898 -0.72016552 -0.64827817]\n",
      " [ 2.80186909  0.9698682  -0.11173106]\n",
      " [-3.2307313  -2.67230977 -1.38377616]]\n"
     ]
    }
   ],
   "source": [
    "p_prime = np.dot(np.multiply(np.eye(im, im), np.dot(H, T[::, ::, 0])), np.ones((im, 1)))\n",
    "q_prime = np.dot(np.multiply(np.eye(im, im), np.dot(H, T[::, ::, 1])), np.ones((im, 1)))\n",
    "s_prime = np.dot(np.multiply(np.eye(im, im), np.dot(H, T[::, ::, 2])), np.ones((im, 1)))\n",
    "print(np.concatenate((p_prime, q_prime, s_prime), axis = 1))"
   ]
  },
  {
   "cell_type": "markdown",
   "metadata": {},
   "source": [
    "<center> <font color = #82318E size = 4 face = \"微软雅黑\" > 4. Tensor Version </font> </center>"
   ]
  },
  {
   "cell_type": "markdown",
   "metadata": {},
   "source": [
    "<center> <font color = #82318E size = 3 face = \"微软雅黑\" > 4.1 Tensor Version (Numpy) </font> </center>"
   ]
  },
  {
   "cell_type": "markdown",
   "metadata": {},
   "source": [
    "<table border = '0' witdth = '2000' >\n",
    "<tr> \n",
    "<td width = '2000' ><img src = ./Tensor.jpeg /></td> \n",
    "</tr>\n",
    "</table>"
   ]
  },
  {
   "cell_type": "code",
   "execution_count": 7,
   "metadata": {},
   "outputs": [
    {
     "name": "stdout",
     "output_type": "stream",
     "text": [
      "(9, 3) (3, 9, 3) (9, 9, 3)\n"
     ]
    }
   ],
   "source": [
    "'''\n",
    "is the same as \n",
    "T = np.concatenate((Tx, Ty, Tz), axis = 0).reshape(-1, im, 3)\n",
    "'''\n",
    "T = np.stack((Tx, Ty, Tz), axis = 0)\n",
    "One_tensor = np.stack((np.eye(im, im), np.eye(im, im), np.eye(im, im)), axis = 2)\n",
    "print(H.shape, T.shape, One_tensor.shape)"
   ]
  },
  {
   "cell_type": "code",
   "execution_count": 7,
   "metadata": {
    "scrolled": false
   },
   "outputs": [
    {
     "name": "stdout",
     "output_type": "stream",
     "text": [
      "[[-0.4702549  -1.09373498  0.71895093]\n",
      " [-4.34420159  1.93786275  1.27702953]\n",
      " [-0.79210234 -0.6952026  -0.78218299]\n",
      " [ 1.90391861 -1.60849709 -2.27491605]\n",
      " [ 4.405149    0.28022822 -1.9293554 ]\n",
      " [ 1.17188343 -1.65311901 -0.04564163]\n",
      " [-1.65806898 -0.72016552 -0.64827817]\n",
      " [ 2.80186909  0.9698682  -0.11173106]\n",
      " [-3.2307313  -2.67230977 -1.38377616]]\n"
     ]
    }
   ],
   "source": [
    "print(np.sum(np.multiply(np.tensordot(H, T, axes = (1, 0)), One_tensor), axis = 0))"
   ]
  },
  {
   "cell_type": "code",
   "execution_count": 31,
   "metadata": {},
   "outputs": [
    {
     "name": "stdout",
     "output_type": "stream",
     "text": [
      "[[[-0.4702549  -1.09373498  0.71895093]\n",
      "  [ 0.97867456 -0.3994557  -0.19627198]\n",
      "  [ 0.35778565 -0.16557194  0.46220189]\n",
      "  [-0.45552777  0.63640789  0.6551166 ]\n",
      "  [-1.06336823  0.25334637  0.2145882 ]\n",
      "  [-0.27659288  1.13330329 -0.32825987]\n",
      "  [-0.17882614 -0.73266177  0.68569048]\n",
      "  [ 1.07010198  0.43203027  0.65165838]\n",
      "  [-0.74866471 -0.428114   -0.09345973]]\n",
      "\n",
      " [[ 2.54242099  4.79159947 -3.61450688]\n",
      "  [-4.34420159  1.93786275  1.27702953]\n",
      "  [-2.10795961  0.38519769 -2.55775196]\n",
      "  [ 1.68175742 -2.72262405 -3.82977733]\n",
      "  [ 4.13311308 -1.17678882 -0.41013847]\n",
      "  [ 2.08003927 -5.96476726  1.80664798]\n",
      "  [ 1.41386115  3.79582884 -3.23415625]\n",
      "  [-5.71390716 -2.31683205 -3.54411025]\n",
      "  [ 3.54174696  2.46640241  0.76245229]]\n",
      "\n",
      " [[ 0.1635514  -0.06548322 -0.52437128]\n",
      "  [ 0.76858049 -0.14951629  0.80793396]\n",
      "  [-0.79210234 -0.6952026  -0.78218299]\n",
      "  [-0.21752564  0.89357359 -1.21449271]\n",
      "  [-1.24439705  0.26308134  1.12157733]\n",
      "  [ 1.1048893  -1.09185902 -0.24201179]\n",
      "  [ 1.03732423  0.83603994 -0.16728875]\n",
      "  [-1.75690271 -0.66435497 -0.52915391]\n",
      "  [ 0.42131444  0.76860608  0.6270356 ]]\n",
      "\n",
      " [[ 1.24771381  3.98838999 -2.5292954 ]\n",
      "  [-2.82895683  1.08740266  0.92305796]\n",
      "  [-1.34094754  0.41889264 -1.7285332 ]\n",
      "  [ 1.90391861 -1.60849709 -2.27491605]\n",
      "  [ 3.47783757 -0.60237535 -0.45606853]\n",
      "  [ 0.89348282 -3.8770442   0.4951259 ]\n",
      "  [ 0.78712878  2.70897735 -2.3867308 ]\n",
      "  [-4.23002925 -1.65238558 -1.98383835]\n",
      "  [ 2.81493872  1.51190426  0.45923073]]\n",
      "\n",
      " [[-1.59731649  3.45354649 -0.20921222]\n",
      "  [-0.98632791 -0.41557787 -0.49182163]\n",
      "  [ 0.90139104  1.38897158  0.5242866 ]\n",
      "  [ 3.28878273 -0.45562201  1.99148811]\n",
      "  [ 4.405149    0.28022822 -1.9293554 ]\n",
      "  [-2.83032504  0.9991109  -2.19604717]\n",
      "  [-1.56852827  0.10593333 -0.97181208]\n",
      "  [-0.18267972  0.10625874  1.64781116]\n",
      "  [ 1.55102326 -1.09447284 -0.79049929]]\n",
      "\n",
      " [[ 0.41328642  0.57301153 -0.89561652]\n",
      "  [ 0.15313503  0.08687911  0.85908774]\n",
      "  [-0.93474762 -0.54574292 -0.98621728]\n",
      "  [ 0.06873774  0.4654334  -1.49160068]\n",
      "  [-0.53422096  0.10099706  0.91140389]\n",
      "  [ 1.17188343 -1.65311901 -0.04564163]\n",
      "  [ 1.05811367  1.19208738 -0.54824419]\n",
      "  [-2.23813604 -0.86127102 -0.85526029]\n",
      "  [ 0.82165978  0.95224302  0.63184075]]\n",
      "\n",
      " [[ 1.98341182  0.67580169 -0.16532139]\n",
      "  [-4.46112283  1.90628591 -1.67904017]\n",
      "  [ 0.87067922  1.6547368   0.82988643]\n",
      "  [-0.49343734 -4.30497031  0.58117421]\n",
      "  [ 3.66506214 -1.7619442  -2.75631851]\n",
      "  [-0.65714377 -0.40388272  3.33831951]\n",
      "  [-1.65806898 -0.72016552 -0.64827817]\n",
      "  [ 2.79386032  0.84872403 -1.3531225 ]\n",
      "  [-0.42577779 -0.45432117 -1.16117668]]\n",
      "\n",
      " [[ 0.72350677  0.58266366  0.34654546]\n",
      "  [-2.84630912  1.01753345 -1.51193688]\n",
      "  [ 1.13392501  1.45870299  1.08386085]\n",
      "  [ 0.13766612 -2.84451516  1.41180128]\n",
      "  [ 3.06196901 -1.05098932 -2.37675566]\n",
      "  [-1.40598996  0.77716701  1.67910723]\n",
      "  [-1.75685419 -1.0390887  -0.22906554]\n",
      "  [ 2.80186909  0.9698682  -0.11173106]\n",
      "  [-0.46590738 -0.92534938 -1.12915528]]\n",
      "\n",
      " [[-1.66365613 -3.55897422  3.23131017]\n",
      "  [ 1.73915259 -0.95231819 -2.05831067]\n",
      "  [ 2.50791387  0.65256102  2.84431324]\n",
      "  [-1.26480116  0.39827445  4.13705534]\n",
      "  [-1.37624455  0.29535671 -1.23970842]\n",
      "  [-2.68872945  5.48486721 -0.43438732]\n",
      "  [-2.34693344 -3.83664142  2.5279697 ]\n",
      "  [ 6.58475504  2.5636352   2.89801582]\n",
      "  [-3.2307313  -2.67230977 -1.38377616]]]\n"
     ]
    }
   ],
   "source": [
    "print(np.tensordot(H, T, axes = (1, 0)))"
   ]
  },
  {
   "cell_type": "markdown",
   "metadata": {},
   "source": [
    "<center> <font color = #82318E size = 3 face = \"微软雅黑\" > 4.2 Tensor Version (Tensorflow) </font> </center>"
   ]
  },
  {
   "cell_type": "code",
   "execution_count": 8,
   "metadata": {
    "collapsed": true
   },
   "outputs": [],
   "source": [
    "import tensorflow as tf"
   ]
  },
  {
   "cell_type": "code",
   "execution_count": 9,
   "metadata": {},
   "outputs": [
    {
     "name": "stdout",
     "output_type": "stream",
     "text": [
      "[[-0.4702549  -1.09373498  0.71895093]\n",
      " [-4.34420159  1.93786275  1.27702953]\n",
      " [-0.79210234 -0.6952026  -0.78218299]\n",
      " [ 1.90391861 -1.60849709 -2.27491605]\n",
      " [ 4.405149    0.28022822 -1.9293554 ]\n",
      " [ 1.17188343 -1.65311901 -0.04564163]\n",
      " [-1.65806898 -0.72016552 -0.64827817]\n",
      " [ 2.80186909  0.9698682  -0.11173106]\n",
      " [-3.2307313  -2.67230977 -1.38377616]]\n"
     ]
    }
   ],
   "source": [
    "with tf.name_scope('H'):\n",
    "    Tensor_1 = tf.placeholder(dtype = tf.float64, shape = (None, 3), name = 'H')\n",
    "    tf.summary.histogram('H', Tensor_1)\n",
    "    \n",
    "with tf.name_scope('T'):\n",
    "    Tensor_2 = tf.placeholder(dtype = tf.float64, shape = (9, 3), name = 'Tx')\n",
    "    Tensor_3 = tf.placeholder(dtype = tf.float64, shape = (9, 3), name = 'Ty')\n",
    "    Tensor_4 = tf.placeholder(dtype = tf.float64, shape = (9, 3), name = 'Tz')\n",
    "    tf.summary.histogram('Tx', Tensor_2)\n",
    "    tf.summary.histogram('Ty', Tensor_3)\n",
    "    tf.summary.histogram('Tz', Tensor_4)\n",
    "    \n",
    "with tf.name_scope('fetch'):\n",
    "    Tensor_5 = tf.placeholder(dtype = tf.float64, shape = (9, 9, 3), name = 'One')\n",
    "    tf.summary.histogram('fetch', Tensor_5)\n",
    "\n",
    "Tensor_6 = tf.stack((Tensor_2, Tensor_3, Tensor_4), axis = 0)\n",
    "Tensor_7 = tf.reduce_sum(tf.multiply(tf.tensordot(Tensor_1, Tensor_6, axes = ([1], [0])), Tensor_5), axis = 0)\n",
    "tf.summary.histogram('Result', Tensor_7)\n",
    "\n",
    "with tf.Session() as sess:\n",
    "    \n",
    "    merged = tf.summary.merge_all()\n",
    "    writer = tf.summary.FileWriter('./log', sess.graph)\n",
    "    \n",
    "    print(sess.run(Tensor_7, \n",
    "                   feed_dict = {Tensor_1: H, Tensor_2: Tx, Tensor_3: Ty, Tensor_4: Tz, Tensor_5: One_tensor}))"
   ]
  },
  {
   "cell_type": "markdown",
   "metadata": {},
   "source": [
    "<table border = '0' witdth = '2000' >\n",
    "<tr> \n",
    "<td width = '2000' ><img src = ./graph.png /></td> \n",
    "</tr>\n",
    "</table>"
   ]
  },
  {
   "cell_type": "code",
   "execution_count": 10,
   "metadata": {
    "scrolled": true
   },
   "outputs": [
    {
     "name": "stdout",
     "output_type": "stream",
     "text": [
      "Starting TensorBoard b'47' at http://0.0.0.0:6006\n",
      "(Press CTRL+C to quit)\n",
      "^C\n"
     ]
    }
   ],
   "source": [
    "!tensorboard --logdir=./log"
   ]
  },
  {
   "cell_type": "code",
   "execution_count": null,
   "metadata": {
    "collapsed": true
   },
   "outputs": [],
   "source": []
  }
 ],
 "metadata": {
  "kernelspec": {
   "display_name": "Python 3",
   "language": "python",
   "name": "python3"
  },
  "language_info": {
   "codemirror_mode": {
    "name": "ipython",
    "version": 3
   },
   "file_extension": ".py",
   "mimetype": "text/x-python",
   "name": "python",
   "nbconvert_exporter": "python",
   "pygments_lexer": "ipython3",
   "version": "3.6.5"
  }
 },
 "nbformat": 4,
 "nbformat_minor": 2
}
